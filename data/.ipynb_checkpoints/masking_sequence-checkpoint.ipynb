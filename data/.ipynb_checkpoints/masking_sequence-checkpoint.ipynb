{
 "cells": [
  {
   "cell_type": "code",
   "execution_count": 4,
   "id": "280d5f08",
   "metadata": {},
   "outputs": [
    {
     "name": "stderr",
     "output_type": "stream",
     "text": [
      "/home/lucaghiringhelli/.local/lib/python3.6/site-packages/tqdm/auto.py:22: TqdmWarning: IProgress not found. Please update jupyter and ipywidgets. See https://ipywidgets.readthedocs.io/en/stable/user_install.html\n",
      "  from .autonotebook import tqdm as notebook_tqdm\n"
     ]
    }
   ],
   "source": [
    "import numpy as np\n",
    "import time\n",
    "import re\n",
    "import copy\n",
    "import torch"
   ]
  },
  {
   "cell_type": "markdown",
   "id": "acc72bf0",
   "metadata": {},
   "source": [
    "# Masking seqeunces\n",
    "\n",
    "Generate a file with seqeunces, masked seqeunces and masked letter."
   ]
  },
  {
   "cell_type": "code",
   "execution_count": 5,
   "id": "9d5e7b5c",
   "metadata": {},
   "outputs": [],
   "source": [
    "with open('sequences_t=127.dat', 'r') as f:\n",
    "    lines = f.readlines()\n",
    "seqs = list([list(line)[:-1] for line in lines])\n"
   ]
  },
  {
   "cell_type": "code",
   "execution_count": 6,
   "id": "ee32aefe",
   "metadata": {},
   "outputs": [],
   "source": [
    "amino_acids = [\"A\",\"R\", \"N\", \"D\", \"C\", \"Q\", \"E\", \"G\", \"H\", \"I\", \"L\", \"K\", \"M\", \n",
    "                    \"F\", \"P\", \"S\", \"T\", \"W\", \"Y\", \"V\", \"[MASK]\"]  \n",
    "# dict_aminoacids = {aa: idx for idx, aa in enumerate(amino_acids)}\n",
    "dict_aminoacids = {aa: idx for idx, aa in enumerate(amino_acids)}\n",
    "\n",
    "def add_mask(sequences, mask_token=\"[MASK]\", mask_probability=0.15):\n",
    "    sequences_masked = copy.deepcopy(sequences)\n",
    "    masked_positions = []\n",
    "\n",
    "    for s in sequences_masked:\n",
    "        positions = []\n",
    "        for i in range(len(s)):\n",
    "            if torch.rand(1).item() < mask_probability:\n",
    "                positions.append((i, dict_aminoacids[s[i]]))\n",
    "                s[i] = mask_token\n",
    "        masked_positions.append(positions)\n",
    "\n",
    "    return sequences_masked, masked_positions\n",
    "\n",
    "def convert_to_indices(sequences, dict_aminoacids):\n",
    "    sequences_indices = []\n",
    "    for s in sequences:\n",
    "        indices = [dict_aminoacids[aa] for aa in s]\n",
    "        sequences_indices.append(indices)\n",
    "    return sequences_indices"
   ]
  },
  {
   "cell_type": "code",
   "execution_count": 7,
   "id": "a75a529f",
   "metadata": {},
   "outputs": [
    {
     "name": "stdout",
     "output_type": "stream",
     "text": [
      "CPU times: user 7.36 s, sys: 55.5 ms, total: 7.42 s\n",
      "Wall time: 7.42 s\n"
     ]
    }
   ],
   "source": [
    "%%time\n",
    "sequences_masked, masked_positions = add_mask(seqs)\n",
    "sequences_masked_number = convert_to_indices(sequences_masked, dict_aminoacids)\n",
    "sequences_number = convert_to_indices(seqs, dict_aminoacids)"
   ]
  },
  {
   "cell_type": "code",
   "execution_count": 8,
   "id": "3dfc4f56",
   "metadata": {},
   "outputs": [
    {
     "name": "stdout",
     "output_type": "stream",
     "text": [
      "Mean number of masked amioacids: 12.974226374176329, std: 3.283209939629775\n"
     ]
    }
   ],
   "source": [
    "print(f\"Mean number of masked amioacids: {np.mean([len(pos) for pos in masked_positions]) }, std: {np.std([len(pos) for pos in masked_positions])}\")"
   ]
  },
  {
   "cell_type": "code",
   "execution_count": null,
   "id": "85b56e5c",
   "metadata": {},
   "outputs": [],
   "source": [
    "def save_to_file(sequences_masked_number, sequences_number, masked_positions, filename=\"SequencesMasked.txt\"):\n",
    "    with open(filename, \"w\") as file:\n",
    "        file.write(\"Sequences Masked Number\\tSequences Number\\tmasked_positions\\n\")\n",
    "        for smn, sn, mp in zip(sequences_masked_number, sequences_number, masked_positions):\n",
    "            file.write(f\"{smn}\\t{sn}\\t{mp}\\n\")\n",
    "\n",
    "save_to_file(sequences_masked_number, sequences_number, masked_positions"
   ]
  },
  {
   "cell_type": "code",
   "execution_count": 75,
   "id": "9cfcdda7",
   "metadata": {},
   "outputs": [],
   "source": [
    "import ast\n",
    "\n",
    "def load_seq_mask(filename=\"SequencesMasked.txt\", n=None):\n",
    "    sequences_masked_number = []\n",
    "    sequences_number = []\n",
    "    masked_positions = []\n",
    "\n",
    "    with open(filename, \"r\") as file:\n",
    "        next(file)  # Salta l'intestazione\n",
    "        for i, line in enumerate(file):\n",
    "            if n is not None and i >= n:\n",
    "                break\n",
    "            smn, sn, mp = line.strip().split(\"\\t\")\n",
    "            # converto la stringa in una lista di numeri\n",
    "            sequences_masked_number.append(ast.literal_eval(smn))  \n",
    "            sequences_number.append(ast.literal_eval(sn))  \n",
    "            masked_positions.append(ast.literal_eval(mp))  \n",
    "\n",
    "    return sequences_masked_number, sequences_number, masked_positions"
   ]
  }
 ],
 "metadata": {
  "kernelspec": {
   "display_name": "Python 3",
   "language": "python",
   "name": "python3"
  },
  "language_info": {
   "codemirror_mode": {
    "name": "ipython",
    "version": 3
   },
   "file_extension": ".py",
   "mimetype": "text/x-python",
   "name": "python",
   "nbconvert_exporter": "python",
   "pygments_lexer": "ipython3",
   "version": "3.6.8"
  }
 },
 "nbformat": 4,
 "nbformat_minor": 5
}
